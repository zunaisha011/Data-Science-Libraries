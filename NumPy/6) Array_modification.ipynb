{
 "cells": [
  {
   "cell_type": "markdown",
   "id": "0891aa38-9419-4fab-94b7-562e852691de",
   "metadata": {},
   "source": [
    "# Modifying an array"
   ]
  },
  {
   "cell_type": "code",
   "execution_count": 2,
   "id": "91ee1678-b0df-433a-ab89-ba4cd1f3b8cc",
   "metadata": {},
   "outputs": [],
   "source": [
    "import numpy as np"
   ]
  },
  {
   "cell_type": "code",
   "execution_count": null,
   "id": "d81bd74e-304e-417a-9747-b64003d7191f",
   "metadata": {},
   "outputs": [],
   "source": [
    "# np.insert(array, index, value)\n",
    "# array        → the array in which you want to insert\n",
    "# index        → the position where you want to insert\n",
    "# value        → the value(s) you want to insert\n",
    "# axis         → if None: the array is first flattened to 1D and a new copy is returned\n",
    "# axis=0,        row-wise\n",
    "# axis=1,        column-wise"
   ]
  },
  {
   "cell_type": "code",
   "execution_count": 25,
   "id": "b8e876fe-85fe-4b6f-be0e-b682f88f8037",
   "metadata": {},
   "outputs": [
    {
     "data": {
      "text/plain": [
       "array([1, 2, 3, 4, 5, 6])"
      ]
     },
     "execution_count": 25,
     "metadata": {},
     "output_type": "execute_result"
    }
   ],
   "source": [
    "#  In 1d\n",
    "arr=np.array([1,3,4,5,6])\n",
    "new=np.insert(arr,1,2)\n",
    "new"
   ]
  },
  {
   "cell_type": "code",
   "execution_count": 26,
   "id": "92db344d-4cbf-45e6-bdcf-3140829e5318",
   "metadata": {},
   "outputs": [
    {
     "data": {
      "text/plain": [
       "array([[ 10,  30],\n",
       "       [100, 200],\n",
       "       [ 40,  50]])"
      ]
     },
     "execution_count": 26,
     "metadata": {},
     "output_type": "execute_result"
    }
   ],
   "source": [
    "# In 2d\n",
    "array=np.array([[10,30],\n",
    "               [40,50]])\n",
    "new_array=np.insert(array,1,[100,200], axis =0)\n",
    "new_array\n",
    "# inserted in 2nd row"
   ]
  },
  {
   "cell_type": "code",
   "execution_count": 27,
   "id": "cfafc9c7-8498-437a-bf56-9a4024386cc7",
   "metadata": {},
   "outputs": [
    {
     "data": {
      "text/plain": [
       "array([[ 10, 100,  30],\n",
       "       [ 40, 200,  50]])"
      ]
     },
     "execution_count": 27,
     "metadata": {},
     "output_type": "execute_result"
    }
   ],
   "source": [
    "# In 2d\n",
    "array=np.array([[10,30],\n",
    "               [40,50]])\n",
    "new_array=np.insert(array,1,[100,200], axis =1)\n",
    "new_array\n",
    "# inserted in 2nd column"
   ]
  },
  {
   "cell_type": "code",
   "execution_count": 28,
   "id": "de3d5d48-7dcd-43bc-831e-73ab4712c15c",
   "metadata": {},
   "outputs": [
    {
     "data": {
      "text/plain": [
       "array([ 10, 100, 200,  30,  40,  50])"
      ]
     },
     "execution_count": 28,
     "metadata": {},
     "output_type": "execute_result"
    }
   ],
   "source": [
    "# In 2d\n",
    "array=np.array([[10,30],\n",
    "               [40,50]])\n",
    "new_array=np.insert(array,1,[100,200], axis =None)\n",
    "new_array"
   ]
  },
  {
   "cell_type": "code",
   "execution_count": 31,
   "id": "1918d29d-ef6d-46bf-af71-5b0b90f932d2",
   "metadata": {},
   "outputs": [
    {
     "data": {
      "text/plain": [
       "array([1, 2, 3, 4, 5])"
      ]
     },
     "execution_count": 31,
     "metadata": {},
     "output_type": "execute_result"
    }
   ],
   "source": [
    "# .append() Adds number at the end of an array\n",
    "a=np.array([1,2,3,4])\n",
    "b=np.append(a,5)\n",
    "b"
   ]
  },
  {
   "cell_type": "code",
   "execution_count": 37,
   "id": "be23086e-f75b-455d-9bf9-00c043b46132",
   "metadata": {},
   "outputs": [
    {
     "data": {
      "text/plain": [
       "array([[1, 2],\n",
       "       [3, 4],\n",
       "       [5, 6]])"
      ]
     },
     "execution_count": 37,
     "metadata": {},
     "output_type": "execute_result"
    }
   ],
   "source": [
    "a=np.array([[1,2],\n",
    "           [3,4]])\n",
    "b = np.append(a, [[5, 6]], axis=0)\n",
    "b"
   ]
  },
  {
   "cell_type": "code",
   "execution_count": 38,
   "id": "a64aede7-5374-4b7d-8baa-7cc7af3c555a",
   "metadata": {},
   "outputs": [
    {
     "ename": "ValueError",
     "evalue": "all the input array dimensions except for the concatenation axis must match exactly, but along dimension 0, the array at index 0 has size 2 and the array at index 1 has size 1",
     "output_type": "error",
     "traceback": [
      "\u001b[1;31m---------------------------------------------------------------------------\u001b[0m",
      "\u001b[1;31mValueError\u001b[0m                                Traceback (most recent call last)",
      "Cell \u001b[1;32mIn[38], line 3\u001b[0m\n\u001b[0;32m      1\u001b[0m a\u001b[38;5;241m=\u001b[39mnp\u001b[38;5;241m.\u001b[39marray([[\u001b[38;5;241m1\u001b[39m,\u001b[38;5;241m2\u001b[39m],\n\u001b[0;32m      2\u001b[0m            [\u001b[38;5;241m3\u001b[39m,\u001b[38;5;241m4\u001b[39m]])\n\u001b[1;32m----> 3\u001b[0m b \u001b[38;5;241m=\u001b[39m np\u001b[38;5;241m.\u001b[39mappend(a, [[\u001b[38;5;241m5\u001b[39m, \u001b[38;5;241m6\u001b[39m]], axis\u001b[38;5;241m=\u001b[39m\u001b[38;5;241m1\u001b[39m)\n\u001b[0;32m      4\u001b[0m b\n",
      "File \u001b[1;32mC:\\ProgramData\\anaconda3\\Lib\\site-packages\\numpy\\lib\\_function_base_impl.py:5692\u001b[0m, in \u001b[0;36mappend\u001b[1;34m(arr, values, axis)\u001b[0m\n\u001b[0;32m   5690\u001b[0m     values \u001b[38;5;241m=\u001b[39m ravel(values)\n\u001b[0;32m   5691\u001b[0m     axis \u001b[38;5;241m=\u001b[39m arr\u001b[38;5;241m.\u001b[39mndim\u001b[38;5;241m-\u001b[39m\u001b[38;5;241m1\u001b[39m\n\u001b[1;32m-> 5692\u001b[0m \u001b[38;5;28;01mreturn\u001b[39;00m concatenate((arr, values), axis\u001b[38;5;241m=\u001b[39maxis)\n",
      "\u001b[1;31mValueError\u001b[0m: all the input array dimensions except for the concatenation axis must match exactly, but along dimension 0, the array at index 0 has size 2 and the array at index 1 has size 1"
     ]
    }
   ],
   "source": [
    "import numpy as np\n",
    "\n",
    "a = np.array([[1, 2],\n",
    "              [3, 4]])\n",
    "# Appending as a new column → must match row count (2 rows)\n",
    "b = np.append(a, [[5], [6]], axis=1)\n",
    "print(b)\n"
   ]
  },
  {
   "cell_type": "code",
   "execution_count": null,
   "id": "7da93454-a56a-4d7c-a021-c5c60672fcde",
   "metadata": {},
   "outputs": [],
   "source": []
  }
 ],
 "metadata": {
  "kernelspec": {
   "display_name": "Python 3 (ipykernel)",
   "language": "python",
   "name": "python3"
  },
  "language_info": {
   "codemirror_mode": {
    "name": "ipython",
    "version": 3
   },
   "file_extension": ".py",
   "mimetype": "text/x-python",
   "name": "python",
   "nbconvert_exporter": "python",
   "pygments_lexer": "ipython3",
   "version": "3.13.5"
  }
 },
 "nbformat": 4,
 "nbformat_minor": 5
}
