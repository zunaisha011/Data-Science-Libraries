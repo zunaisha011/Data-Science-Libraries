{
 "cells": [
  {
   "cell_type": "markdown",
   "id": "0891aa38-9419-4fab-94b7-562e852691de",
   "metadata": {},
   "source": [
    "# Modifying an array"
   ]
  },
  {
   "cell_type": "code",
   "execution_count": 2,
   "id": "91ee1678-b0df-433a-ab89-ba4cd1f3b8cc",
   "metadata": {},
   "outputs": [],
   "source": [
    "import numpy as np"
   ]
  },
  {
   "cell_type": "code",
   "execution_count": null,
   "id": "d81bd74e-304e-417a-9747-b64003d7191f",
   "metadata": {},
   "outputs": [],
   "source": [
    "# np.insert(array, index, value)\n",
    "# array        → the array in which you want to insert\n",
    "# index        → the position where you want to insert\n",
    "# value        → the value(s) you want to insert\n",
    "# axis         → if None: the array is first flattened to 1D and a new copy is returned\n",
    "# axis=0,        row-wise\n",
    "# axis=1,        column-wise"
   ]
  },
  {
   "cell_type": "code",
   "execution_count": 20,
   "id": "b8e876fe-85fe-4b6f-be0e-b682f88f8037",
   "metadata": {},
   "outputs": [
    {
     "data": {
      "text/plain": [
       "array([1, 2, 3, 4, 5, 6])"
      ]
     },
     "execution_count": 20,
     "metadata": {},
     "output_type": "execute_result"
    }
   ],
   "source": [
    "#  In 1d\n",
    "arr=np.array([1,3,4,5,6])\n",
    "new=np.insert(arr,1,2)\n",
    "new"
   ]
  },
  {
   "cell_type": "code",
   "execution_count": 22,
   "id": "92db344d-4cbf-45e6-bdcf-3140829e5318",
   "metadata": {},
   "outputs": [
    {
     "data": {
      "text/plain": [
       "array([[ 10, 100,  30],\n",
       "       [ 40, 200,  50]])"
      ]
     },
     "execution_count": 22,
     "metadata": {},
     "output_type": "execute_result"
    }
   ],
   "source": [
    "# In 2d\n",
    "array=np.array([[10,30],\n",
    "               [40,50]])\n",
    "new_array=np.insert(array,1,[100,200], axis =0)\n",
    "new_array\n",
    "# inserted in 2nd row"
   ]
  },
  {
   "cell_type": "code",
   "execution_count": null,
   "id": "cfafc9c7-8498-437a-bf56-9a4024386cc7",
   "metadata": {},
   "outputs": [],
   "source": [
    "# In 2d\n",
    "array=np.array([[10,30],\n",
    "               [40,50]])\n",
    "new_array=np.insert(array,1,[100,200], axis =1)\n",
    "new_array\n",
    "# inserted in 2nd column"
   ]
  }
 ],
 "metadata": {
  "kernelspec": {
   "display_name": "Python 3 (ipykernel)",
   "language": "python",
   "name": "python3"
  },
  "language_info": {
   "codemirror_mode": {
    "name": "ipython",
    "version": 3
   },
   "file_extension": ".py",
   "mimetype": "text/x-python",
   "name": "python",
   "nbconvert_exporter": "python",
   "pygments_lexer": "ipython3",
   "version": "3.13.5"
  }
 },
 "nbformat": 4,
 "nbformat_minor": 5
}
