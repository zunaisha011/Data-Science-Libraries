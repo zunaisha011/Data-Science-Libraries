{
 "cells": [
  {
   "cell_type": "markdown",
   "id": "34d9b8f6-2c63-4deb-9ccc-e22a95467b06",
   "metadata": {},
   "source": [
    "Shape, size,type"
   ]
  },
  {
   "cell_type": "markdown",
   "id": "2d5e94a5-bfea-4fc5-8c67-4840217a32ec",
   "metadata": {},
   "source": [
    "shape: tells no. of rows and columns"
   ]
  },
  {
   "cell_type": "code",
   "execution_count": 2,
   "id": "45be56bf-f428-4f54-a78c-027d5c8f36ae",
   "metadata": {},
   "outputs": [],
   "source": [
    "import numpy as np"
   ]
  },
  {
   "cell_type": "markdown",
   "id": "1e4ea771-973e-4ad0-8a55-56636a0915e8",
   "metadata": {},
   "source": [
    "**Shape**"
   ]
  },
  {
   "cell_type": "code",
   "execution_count": 6,
   "id": "d7cf8981-cefe-44a1-88b3-2fb450bca2f1",
   "metadata": {},
   "outputs": [
    {
     "data": {
      "text/plain": [
       "(2, 3)"
      ]
     },
     "execution_count": 6,
     "metadata": {},
     "output_type": "execute_result"
    }
   ],
   "source": [
    "# .shape:   Tells dimensions (rows and columns)\n",
    "array_2d=np.array([[1,2,3],\n",
    "                   [4,5,6]])\n",
    "array_2d.shape\n",
    "# Output: (2,3)  rows and columns"
   ]
  },
  {
   "cell_type": "code",
   "execution_count": 8,
   "id": "9b089269-8b88-4208-9ab8-738cab517953",
   "metadata": {},
   "outputs": [
    {
     "data": {
      "text/plain": [
       "(2, 2, 3)"
      ]
     },
     "execution_count": 8,
     "metadata": {},
     "output_type": "execute_result"
    }
   ],
   "source": [
    "arr = np.array([[[1, 2, 3],\n",
    "                 [4, 5, 6]],\n",
    "\n",
    "                [[7, 8, 9],\n",
    "                 [10, 11, 12]]])\n",
    "arr.shape\n",
    "# Output: (2,2,3) 2 blocks, each block has 2 rows and 3 columns"
   ]
  },
  {
   "cell_type": "markdown",
   "id": "e1865e62-08d4-421b-aaf4-feffb0d1160a",
   "metadata": {},
   "source": [
    "**Size**"
   ]
  },
  {
   "cell_type": "code",
   "execution_count": 11,
   "id": "ba1acebd-3e2d-4236-b2bd-d81559e77921",
   "metadata": {},
   "outputs": [
    {
     "data": {
      "text/plain": [
       "8"
      ]
     },
     "execution_count": 11,
     "metadata": {},
     "output_type": "execute_result"
    }
   ],
   "source": [
    "# .size:  Total number of elemnts in an array\n",
    "array_size=np.array([[10,20,30,90],\n",
    "                    [40,50,60,80]])\n",
    "array_size.size"
   ]
  },
  {
   "cell_type": "markdown",
   "id": "a76b621d-301f-4864-9d3e-2e049c55e19e",
   "metadata": {},
   "source": [
    "**Number of dimensions**"
   ]
  },
  {
   "cell_type": "code",
   "execution_count": 13,
   "id": "20dfeb31-e60d-4c91-b34e-68cc801a3e54",
   "metadata": {},
   "outputs": [
    {
     "data": {
      "text/plain": [
       "1"
      ]
     },
     "execution_count": 13,
     "metadata": {},
     "output_type": "execute_result"
    }
   ],
   "source": [
    "# ndim:  Number of dimensions (Tells dimensions of array )\n",
    "# 1d\n",
    "array_od=np.array([1,4,7])\n",
    "array.ndim"
   ]
  },
  {
   "cell_type": "code",
   "execution_count": 14,
   "id": "a8c67e4a-d501-4ace-a21f-167240bceff2",
   "metadata": {},
   "outputs": [
    {
     "data": {
      "text/plain": [
       "2"
      ]
     },
     "execution_count": 14,
     "metadata": {},
     "output_type": "execute_result"
    }
   ],
   "source": [
    "array_td=np.array([[1,3,5],\n",
    "                  [7,9,11]])\n",
    "array_td.ndim"
   ]
  },
  {
   "cell_type": "code",
   "execution_count": 17,
   "id": "c4912253-e146-4abd-ba87-a2ccc4805a36",
   "metadata": {},
   "outputs": [
    {
     "data": {
      "text/plain": [
       "3"
      ]
     },
     "execution_count": 17,
     "metadata": {},
     "output_type": "execute_result"
    }
   ],
   "source": [
    "array_thd=np.array([[[1,3,5],\n",
    "                   [7,9,11],\n",
    "                   [13,15,17],\n",
    "                   [19,21,23]]])\n",
    "array_thd.ndim"
   ]
  },
  {
   "cell_type": "markdown",
   "id": "d058dd4b-374b-4c80-9c66-5a947142e320",
   "metadata": {},
   "source": [
    "**Data type of array**"
   ]
  },
  {
   "cell_type": "code",
   "execution_count": 18,
   "id": "0a6129c7-c77c-41a1-896b-1a03c46263d8",
   "metadata": {},
   "outputs": [
    {
     "data": {
      "text/plain": [
       "dtype('int64')"
      ]
     },
     "execution_count": 18,
     "metadata": {},
     "output_type": "execute_result"
    }
   ],
   "source": [
    "array_td=np.array([[1,3,5],\n",
    "                  [7,9,11]])\n",
    "array_td.dtype"
   ]
  },
  {
   "cell_type": "code",
   "execution_count": 23,
   "id": "9046cc33-b3cb-458e-bc58-8ef4a463f909",
   "metadata": {},
   "outputs": [
    {
     "data": {
      "text/plain": [
       "dtype('<U6')"
      ]
     },
     "execution_count": 23,
     "metadata": {},
     "output_type": "execute_result"
    }
   ],
   "source": [
    "array=np.array([['apple','mango'],\n",
    "                  ['orange','peach']])\n",
    "array.dtype\n",
    "# U6 means U is unicode string(text) and 6 means max length of\n",
    "# string in char"
   ]
  },
  {
   "cell_type": "markdown",
   "id": "1edcb943-90f6-40b5-89d0-4eba12237caf",
   "metadata": {},
   "source": [
    "# How to change data type of an array"
   ]
  },
  {
   "cell_type": "code",
   "execution_count": 38,
   "id": "5769b053-6d0c-4c5b-9656-1aef9ad2658d",
   "metadata": {},
   "outputs": [
    {
     "data": {
      "text/plain": [
       "array([1, 3, 6])"
      ]
     },
     "execution_count": 38,
     "metadata": {},
     "output_type": "execute_result"
    }
   ],
   "source": [
    "# .astype(new data type)   converts into other data type\n",
    "# Float to int\n",
    "array_conv=np.array([1.2,3.7,6.3])\n",
    "new=array_conv.astype(int)\n",
    "new"
   ]
  },
  {
   "cell_type": "code",
   "execution_count": 30,
   "id": "31bbb282-62bf-4ee1-a554-e58ddfc4e599",
   "metadata": {},
   "outputs": [
    {
     "data": {
      "text/plain": [
       "dtype('int64')"
      ]
     },
     "execution_count": 30,
     "metadata": {},
     "output_type": "execute_result"
    }
   ],
   "source": [
    "new.dtype"
   ]
  },
  {
   "cell_type": "code",
   "execution_count": 39,
   "id": "7827abf9-d880-4753-87d9-6ecd26af8873",
   "metadata": {},
   "outputs": [
    {
     "data": {
      "text/plain": [
       "array([10., 20.])"
      ]
     },
     "execution_count": 39,
     "metadata": {},
     "output_type": "execute_result"
    }
   ],
   "source": [
    "# String to float\n",
    "a=np.array(['10','20'])\n",
    "b=a.astype(float)\n",
    "b"
   ]
  },
  {
   "cell_type": "code",
   "execution_count": 33,
   "id": "5bd38552-6ca7-494a-9842-e53477a1431b",
   "metadata": {},
   "outputs": [
    {
     "data": {
      "text/plain": [
       "dtype('<U2')"
      ]
     },
     "execution_count": 33,
     "metadata": {},
     "output_type": "execute_result"
    }
   ],
   "source": [
    "a.dtype"
   ]
  },
  {
   "cell_type": "code",
   "execution_count": 34,
   "id": "00b5e5c9-1cee-411a-83bf-e4f88f8f025f",
   "metadata": {},
   "outputs": [
    {
     "data": {
      "text/plain": [
       "dtype('int64')"
      ]
     },
     "execution_count": 34,
     "metadata": {},
     "output_type": "execute_result"
    }
   ],
   "source": [
    "b.dtype"
   ]
  }
 ],
 "metadata": {
  "kernelspec": {
   "display_name": "Python 3 (ipykernel)",
   "language": "python",
   "name": "python3"
  },
  "language_info": {
   "codemirror_mode": {
    "name": "ipython",
    "version": 3
   },
   "file_extension": ".py",
   "mimetype": "text/x-python",
   "name": "python",
   "nbconvert_exporter": "python",
   "pygments_lexer": "ipython3",
   "version": "3.13.5"
  }
 },
 "nbformat": 4,
 "nbformat_minor": 5
}
