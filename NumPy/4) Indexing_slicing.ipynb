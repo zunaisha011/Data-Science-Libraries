{
 "cells": [
  {
   "cell_type": "markdown",
   "id": "f97797e4-2ca3-4f94-8c90-3f4f1a979ca6",
   "metadata": {},
   "source": [
    "# Indexing and Slicing"
   ]
  },
  {
   "cell_type": "code",
   "execution_count": 43,
   "id": "0e2695e2-7944-4775-9ab8-ff9d2c770f06",
   "metadata": {},
   "outputs": [],
   "source": [
    "import numpy as np"
   ]
  },
  {
   "cell_type": "markdown",
   "id": "3b3c4471-1b9a-4738-aff6-7bc1adedb829",
   "metadata": {},
   "source": [
    " **Indexing**\n",
    " array[index]            1d-array\n",
    " array[row,column]       2d-array "
   ]
  },
  {
   "cell_type": "code",
   "execution_count": 44,
   "id": "e77e94d2-6374-4525-93d6-96ce296e5487",
   "metadata": {},
   "outputs": [
    {
     "data": {
      "text/plain": [
       "np.int64(50)"
      ]
     },
     "execution_count": 44,
     "metadata": {},
     "output_type": "execute_result"
    }
   ],
   "source": [
    "arr=np.array([10,20,30,40,50])\n",
    "# arr[0]\n",
    "# arr[1]\n",
    "# arr[3]\n",
    "arr[-1]"
   ]
  },
  {
   "cell_type": "markdown",
   "id": "7a552b2a-04bb-4f32-97c3-1c4bfc9c161a",
   "metadata": {},
   "source": [
    "**Slicing**    Start:Stop:Step"
   ]
  },
  {
   "cell_type": "code",
   "execution_count": 45,
   "id": "d57780dd-cdc2-4c35-9e2b-670329b45352",
   "metadata": {},
   "outputs": [
    {
     "data": {
      "text/plain": [
       "array([6, 4, 8, 6, 9])"
      ]
     },
     "execution_count": 45,
     "metadata": {},
     "output_type": "execute_result"
    }
   ],
   "source": [
    "# array[start:end]  start to end - 1\n",
    "a=np.array([3,6,4,8,6,9,1])\n",
    "# a[:]\n",
    "# a[:4]\n",
    "# a[0:3]\n",
    "# a[1:5]\n",
    "a[1:-1]"
   ]
  },
  {
   "cell_type": "code",
   "execution_count": 46,
   "id": "dca5735a-8098-4356-8fbd-4f7353294d69",
   "metadata": {},
   "outputs": [
    {
     "data": {
      "text/plain": [
       "array([ 3,  8,  1, 12])"
      ]
     },
     "execution_count": 46,
     "metadata": {},
     "output_type": "execute_result"
    }
   ],
   "source": [
    "a=np.array([3,6,4,8,6,9,1,5,13,12,18,16])\n",
    "# a[:-1:2]\n",
    "# a[1:-1:2]\n",
    "a[::3]"
   ]
  },
  {
   "cell_type": "code",
   "execution_count": 47,
   "id": "688bbc4e-6423-446a-b2ea-e5ee0f56f3e2",
   "metadata": {},
   "outputs": [
    {
     "data": {
      "text/plain": [
       "array([16, 18, 12, 13,  5,  1,  9,  6,  8,  4,  6,  3])"
      ]
     },
     "execution_count": 47,
     "metadata": {},
     "output_type": "execute_result"
    }
   ],
   "source": [
    "# Negative step: reverse \n",
    "a=np.array([3,6,4,8,6,9,1,5,13,12,18,16])\n",
    "a[::-1]"
   ]
  },
  {
   "cell_type": "markdown",
   "id": "c2c6c197-a60c-4661-8ac8-5004bed94037",
   "metadata": {},
   "source": [
    "**Fancy Indexing**  Selecting multiple elements at once"
   ]
  },
  {
   "cell_type": "code",
   "execution_count": 48,
   "id": "7324f822-596f-4088-ba24-fb7e1675042d",
   "metadata": {},
   "outputs": [
    {
     "data": {
      "text/plain": [
       "array([6, 6, 5])"
      ]
     },
     "execution_count": 48,
     "metadata": {},
     "output_type": "execute_result"
    }
   ],
   "source": [
    "a=np.array([3,6,4,8,6,9,1,5,13,12,18,16])\n",
    "a[[1,4,7]]"
   ]
  },
  {
   "cell_type": "markdown",
   "id": "df85e092-e47a-415a-8ca1-c650463fef44",
   "metadata": {},
   "source": [
    "**Filtering Data (filtering based on condition)**\n",
    "Mostly used in ML"
   ]
  },
  {
   "cell_type": "code",
   "execution_count": 49,
   "id": "d685c250-1f2d-4653-bcab-af703dd56eb6",
   "metadata": {},
   "outputs": [
    {
     "data": {
      "text/plain": [
       "array([13, 12, 18, 16])"
      ]
     },
     "execution_count": 49,
     "metadata": {},
     "output_type": "execute_result"
    }
   ],
   "source": [
    " a=np.array([3,6,4,8,6,9,1,5,13,12,18,16])\n",
    "# a[a<5]\n",
    "a[a>10]"
   ]
  }
 ],
 "metadata": {
  "kernelspec": {
   "display_name": "Python 3 (ipykernel)",
   "language": "python",
   "name": "python3"
  },
  "language_info": {
   "codemirror_mode": {
    "name": "ipython",
    "version": 3
   },
   "file_extension": ".py",
   "mimetype": "text/x-python",
   "name": "python",
   "nbconvert_exporter": "python",
   "pygments_lexer": "ipython3",
   "version": "3.13.5"
  }
 },
 "nbformat": 4,
 "nbformat_minor": 5
}
