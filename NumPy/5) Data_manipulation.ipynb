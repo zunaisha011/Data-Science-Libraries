{
 "cells": [
  {
   "cell_type": "markdown",
   "id": "3b7ee0ec-f347-4a6b-8b4c-ba8adbb54a4f",
   "metadata": {},
   "source": [
    "**Reshaping: Changing dimensions without modifying the data**"
   ]
  },
  {
   "cell_type": "code",
   "execution_count": 2,
   "id": "c487576d-6fec-4e79-a777-e100bca24732",
   "metadata": {},
   "outputs": [],
   "source": [
    "import numpy as np"
   ]
  },
  {
   "cell_type": "code",
   "execution_count": 12,
   "id": "f2134ad4-ec10-4047-b956-514c61dcfe53",
   "metadata": {},
   "outputs": [
    {
     "data": {
      "text/plain": [
       "array([[ 10],\n",
       "       [ 30],\n",
       "       [ 50],\n",
       "       [ 70],\n",
       "       [ 90],\n",
       "       [110]])"
      ]
     },
     "execution_count": 12,
     "metadata": {},
     "output_type": "execute_result"
    }
   ],
   "source": [
    "# 1d to 2d\n",
    "# reshape(rows , columns)  specify new shape\n",
    "# Reshape will work only if the dimensions match\n",
    "# rows × columns = total elements in array\n",
    "array=np.array([10,30,50,70,90,110])\n",
    "# new_arr=array.reshape(2,3)\n",
    "new_arr=array.reshape(6,1)\n",
    "new_arr"
   ]
  },
  {
   "cell_type": "code",
   "execution_count": 14,
   "id": "e7cb9cb9-ab95-4a6b-b8d8-6b37d4289e99",
   "metadata": {},
   "outputs": [
    {
     "data": {
      "text/plain": [
       "array([[[ 10],\n",
       "        [ 30],\n",
       "        [ 50]],\n",
       "\n",
       "       [[ 70],\n",
       "        [ 90],\n",
       "        [110]]])"
      ]
     },
     "execution_count": 14,
     "metadata": {},
     "output_type": "execute_result"
    }
   ],
   "source": [
    "# 1d to 3d\n",
    "array=np.array([10,30,50,70,90,110])\n",
    "new=array.reshape(2,3,1)\n",
    "new"
   ]
  },
  {
   "cell_type": "code",
   "execution_count": 16,
   "id": "04dfab79-c2c8-462e-b1ad-41a11bac5306",
   "metadata": {},
   "outputs": [
    {
     "data": {
      "text/plain": [
       "array([[[ 10],\n",
       "        [ 30],\n",
       "        [ 50],\n",
       "        [ 70],\n",
       "        [ 90]],\n",
       "\n",
       "       [[110],\n",
       "        [ 22],\n",
       "        [ 54],\n",
       "        [ 14],\n",
       "        [ 76]]])"
      ]
     },
     "execution_count": 16,
     "metadata": {},
     "output_type": "execute_result"
    }
   ],
   "source": [
    "array=np.array([10,30,50,70,90,110,22,54,14,76])\n",
    "new=array.reshape(2,5,1)\n",
    "new"
   ]
  }
 ],
 "metadata": {
  "kernelspec": {
   "display_name": "Python 3 (ipykernel)",
   "language": "python",
   "name": "python3"
  },
  "language_info": {
   "codemirror_mode": {
    "name": "ipython",
    "version": 3
   },
   "file_extension": ".py",
   "mimetype": "text/x-python",
   "name": "python",
   "nbconvert_exporter": "python",
   "pygments_lexer": "ipython3",
   "version": "3.13.5"
  }
 },
 "nbformat": 4,
 "nbformat_minor": 5
}
