{
 "cells": [
  {
   "cell_type": "markdown",
   "id": "32329c9a-4072-432e-a778-6dee52e69cde",
   "metadata": {},
   "source": [
    "# Mathematical Functions"
   ]
  },
  {
   "cell_type": "markdown",
   "id": "8ada63ab-5878-46bc-a93a-93b697eb229c",
   "metadata": {},
   "source": [
    "**Operators**"
   ]
  },
  {
   "cell_type": "code",
   "execution_count": 2,
   "id": "ccd6841e-8e3f-491d-b6e8-e836678c373c",
   "metadata": {},
   "outputs": [],
   "source": [
    "import numpy as np"
   ]
  },
  {
   "cell_type": "code",
   "execution_count": 9,
   "id": "a7364219-637d-4bd3-84e0-0f495253ef38",
   "metadata": {},
   "outputs": [
    {
     "data": {
      "text/plain": [
       "array([  32, 1024, 7776])"
      ]
     },
     "execution_count": 9,
     "metadata": {},
     "output_type": "execute_result"
    }
   ],
   "source": [
    "arr=np.array([2,4,6])\n",
    "# new_arr=arr + 5\n",
    "# new_arr=arr - 5\n",
    "# new_arr=arr * 5\n",
    "new_arr=arr ** 5\n",
    "new_arr"
   ]
  },
  {
   "cell_type": "markdown",
   "id": "37782b7d-9a98-47f7-b9ed-e599e1664771",
   "metadata": {},
   "source": [
    "**Aggregation functions**"
   ]
  },
  {
   "cell_type": "code",
   "execution_count": 14,
   "id": "4fce91ac-ef2e-4980-a9ce-167e548af0c0",
   "metadata": {},
   "outputs": [
    {
     "data": {
      "text/plain": [
       "np.int64(150)"
      ]
     },
     "execution_count": 14,
     "metadata": {},
     "output_type": "execute_result"
    }
   ],
   "source": [
    "# np.sum()\n",
    "arr=np.array([10,20,30,40,50])\n",
    "b=np.sum(arr)\n",
    "b"
   ]
  },
  {
   "cell_type": "code",
   "execution_count": 15,
   "id": "eee6b52d-74da-42ca-90b6-4dd59a8a4c04",
   "metadata": {},
   "outputs": [
    {
     "data": {
      "text/plain": [
       "np.float64(30.0)"
      ]
     },
     "execution_count": 15,
     "metadata": {},
     "output_type": "execute_result"
    }
   ],
   "source": [
    "# np.mean()\n",
    "arr=np.array([10,20,30,40,50])\n",
    "b=np.mean(arr)\n",
    "b"
   ]
  },
  {
   "cell_type": "code",
   "execution_count": 16,
   "id": "6ef8437a-1ac0-4d12-aa46-59a9d6b0ea14",
   "metadata": {},
   "outputs": [
    {
     "data": {
      "text/plain": [
       "np.int64(10)"
      ]
     },
     "execution_count": 16,
     "metadata": {},
     "output_type": "execute_result"
    }
   ],
   "source": [
    "# np.min()\n",
    "arr=np.array([10,20,30,40,50])\n",
    "b=np.min(arr)\n",
    "b"
   ]
  },
  {
   "cell_type": "code",
   "execution_count": 17,
   "id": "2d379b2e-3007-4f6c-9880-9b4417280424",
   "metadata": {},
   "outputs": [
    {
     "data": {
      "text/plain": [
       "np.int64(50)"
      ]
     },
     "execution_count": 17,
     "metadata": {},
     "output_type": "execute_result"
    }
   ],
   "source": [
    "# np.max()\n",
    "arr=np.array([10,20,30,40,50])\n",
    "b=np.max(arr)\n",
    "b"
   ]
  },
  {
   "cell_type": "code",
   "execution_count": 18,
   "id": "3fa8944f-bc28-4748-8fba-af842aaff387",
   "metadata": {},
   "outputs": [
    {
     "data": {
      "text/plain": [
       "np.float64(14.142135623730951)"
      ]
     },
     "execution_count": 18,
     "metadata": {},
     "output_type": "execute_result"
    }
   ],
   "source": [
    "# np.std()\n",
    "arr=np.array([10,20,30,40,50])\n",
    "b=np.std(arr)\n",
    "b"
   ]
  },
  {
   "cell_type": "code",
   "execution_count": 19,
   "id": "10bd3f65-50d3-4f01-bb0c-182ae9b4b2ad",
   "metadata": {},
   "outputs": [
    {
     "data": {
      "text/plain": [
       "np.float64(200.0)"
      ]
     },
     "execution_count": 19,
     "metadata": {},
     "output_type": "execute_result"
    }
   ],
   "source": [
    "# np.var()\n",
    "arr=np.array([10,20,30,40,50])\n",
    "b=np.var(arr)\n",
    "b"
   ]
  },
  {
   "cell_type": "code",
   "execution_count": null,
   "id": "ea12ff7c-5feb-4c0d-a4bc-b307337306a9",
   "metadata": {},
   "outputs": [],
   "source": []
  }
 ],
 "metadata": {
  "kernelspec": {
   "display_name": "Python 3 (ipykernel)",
   "language": "python",
   "name": "python3"
  },
  "language_info": {
   "codemirror_mode": {
    "name": "ipython",
    "version": 3
   },
   "file_extension": ".py",
   "mimetype": "text/x-python",
   "name": "python",
   "nbconvert_exporter": "python",
   "pygments_lexer": "ipython3",
   "version": "3.13.5"
  }
 },
 "nbformat": 4,
 "nbformat_minor": 5
}
