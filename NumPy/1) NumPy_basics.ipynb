{
 "cells": [
  {
   "cell_type": "markdown",
   "id": "4ff69c92-835f-4a20-bcb4-dc353364ee71",
   "metadata": {},
   "source": [
    "# NumPy: Numerical Python\n",
    "50-100x faster than lists.  Consumes less memory"
   ]
  },
  {
   "cell_type": "markdown",
   "id": "64fe4307-1f1d-4170-b4c3-b30431d4a9af",
   "metadata": {},
   "source": [
    "**NumPy array creation**"
   ]
  },
  {
   "cell_type": "code",
   "execution_count": 1,
   "id": "54140966-336d-4567-8fbf-9c5da167a0af",
   "metadata": {},
   "outputs": [],
   "source": [
    "import numpy as np"
   ]
  },
  {
   "cell_type": "code",
   "execution_count": 2,
   "id": "4b7689f9-a464-407a-b364-1710ba02a51d",
   "metadata": {},
   "outputs": [
    {
     "data": {
      "text/plain": [
       "np.float64(35.56666666666666)"
      ]
     },
     "execution_count": 2,
     "metadata": {},
     "output_type": "execute_result"
    }
   ],
   "source": [
    "temperature=np.array([33.4,36.8,32.6,36.6,34.6,39.4])\n",
    "average=np.mean(temperature)\n",
    "average"
   ]
  },
  {
   "cell_type": "code",
   "execution_count": 3,
   "id": "2655d825-fa36-40d6-9c95-6bdb7da7171f",
   "metadata": {},
   "outputs": [
    {
     "data": {
      "text/plain": [
       "array([10, 14, 20, 30])"
      ]
     },
     "execution_count": 3,
     "metadata": {},
     "output_type": "execute_result"
    }
   ],
   "source": [
    " # One-dimensional array\n",
    "numbers=np.array([10,14,20,30])\n",
    "numbers"
   ]
  },
  {
   "cell_type": "code",
   "execution_count": 4,
   "id": "6a7e6a92-ca97-4dd7-b91a-ca9ceabf7771",
   "metadata": {},
   "outputs": [
    {
     "data": {
      "text/plain": [
       "array([[1, 2, 3],\n",
       "       [4, 5, 6],\n",
       "       [7, 8, 9]])"
      ]
     },
     "execution_count": 4,
     "metadata": {},
     "output_type": "execute_result"
    }
   ],
   "source": [
    " # Two-dimensional array  (rows and columns)\n",
    "values=np.array([[1,2,3],\n",
    "                 [4,5,6],\n",
    "                 [7,8,9]])\n",
    "values"
   ]
  },
  {
   "cell_type": "code",
   "execution_count": 18,
   "id": "f3f2712b-9bb7-4525-bddb-bb10b8e14720",
   "metadata": {},
   "outputs": [
    {
     "data": {
      "text/plain": [
       "array([[[ 2,  4,  6],\n",
       "        [ 8, 10, 12]],\n",
       "\n",
       "       [[14, 16, 18],\n",
       "        [20, 22, 24]]])"
      ]
     },
     "execution_count": 18,
     "metadata": {},
     "output_type": "execute_result"
    }
   ],
   "source": [
    " # Multi-dimensional array   (stack of multiple 2d arrays)\n",
    "matrix=np.array([[[2,4,6],\n",
    "                 [8,10,12]],\n",
    "                [[14,16,18],\n",
    "                 [20,22,24]]])\n",
    "matrix"
   ]
  },
  {
   "cell_type": "markdown",
   "id": "ea329039-a03c-4421-9b64-44ecc59793c1",
   "metadata": {},
   "source": [
    "**Default values in an array**"
   ]
  },
  {
   "cell_type": "code",
   "execution_count": 6,
   "id": "740b17ce-075b-408d-b3d6-cf0d861fdfb7",
   "metadata": {},
   "outputs": [
    {
     "data": {
      "text/plain": [
       "array([0., 0., 0., 0., 0.])"
      ]
     },
     "execution_count": 6,
     "metadata": {},
     "output_type": "execute_result"
    }
   ],
   "source": [
    "# np.zeros(length)   fills array with 0\n",
    "z_array=np.zeros(5)\n",
    "z_array"
   ]
  },
  {
   "cell_type": "code",
   "execution_count": 7,
   "id": "cbd43ac1-e2f4-4921-98c7-0669ac22b473",
   "metadata": {},
   "outputs": [
    {
     "data": {
      "text/plain": [
       "array([1., 1., 1.])"
      ]
     },
     "execution_count": 7,
     "metadata": {},
     "output_type": "execute_result"
    }
   ],
   "source": [
    "# np.ones(length) fills array with 1\n",
    "o_array=np.ones(3)\n",
    "o_array"
   ]
  },
  {
   "cell_type": "code",
   "execution_count": 8,
   "id": "b808e2de-9e05-4d9d-ac07-6b5077eac451",
   "metadata": {},
   "outputs": [
    {
     "data": {
      "text/plain": [
       "array([7, 7, 7])"
      ]
     },
     "execution_count": 8,
     "metadata": {},
     "output_type": "execute_result"
    }
   ],
   "source": [
    "# np.full(length),specific val     fills array with specific value\n",
    "ar=np.full((3),7)\n",
    "ar"
   ]
  },
  {
   "cell_type": "code",
   "execution_count": 9,
   "id": "528795f9-9e0d-4c97-b453-5547415c62bd",
   "metadata": {},
   "outputs": [
    {
     "data": {
      "text/plain": [
       "array([[0., 0., 0., 0.],\n",
       "       [0., 0., 0., 0.]])"
      ]
     },
     "execution_count": 9,
     "metadata": {},
     "output_type": "execute_result"
    }
   ],
   "source": [
    "#Making 2d-array with zeros  rows and columns frmt\n",
    "z2d_array=np.zeros((2,4)) \n",
    "z2d_array"
   ]
  },
  {
   "cell_type": "code",
   "execution_count": 10,
   "id": "e1fc7aa0-b630-49f0-98c0-b1a12fabf62b",
   "metadata": {},
   "outputs": [
    {
     "data": {
      "text/plain": [
       "array([[1., 1., 1., 1., 1.],\n",
       "       [1., 1., 1., 1., 1.],\n",
       "       [1., 1., 1., 1., 1.]])"
      ]
     },
     "execution_count": 10,
     "metadata": {},
     "output_type": "execute_result"
    }
   ],
   "source": [
    "#Making 2d-array with ones\n",
    "o2d_array=np.ones((3,5))\n",
    "o2d_array"
   ]
  },
  {
   "cell_type": "code",
   "execution_count": 11,
   "id": "8f79b331-c5da-4035-bf54-29ca569ef578",
   "metadata": {},
   "outputs": [
    {
     "data": {
      "text/plain": [
       "array([[8, 8, 8, 8, 8],\n",
       "       [8, 8, 8, 8, 8],\n",
       "       [8, 8, 8, 8, 8]])"
      ]
     },
     "execution_count": 11,
     "metadata": {},
     "output_type": "execute_result"
    }
   ],
   "source": [
    "#Making 2d-array with full\n",
    "f_array=np.full((3,5),8)\n",
    "f_array"
   ]
  },
  {
   "cell_type": "markdown",
   "id": "85881412-9fce-4d1f-a1ef-de8b38b03136",
   "metadata": {},
   "source": [
    "# Creating sequences of numbers"
   ]
  },
  {
   "cell_type": "code",
   "execution_count": 13,
   "id": "2021648b-a1bb-4d74-805e-a21e9d22cfa3",
   "metadata": {},
   "outputs": [
    {
     "data": {
      "text/plain": [
       "array([1, 3, 5, 7, 9])"
      ]
     },
     "execution_count": 13,
     "metadata": {},
     "output_type": "execute_result"
    }
   ],
   "source": [
    "# arange() function workd like range()\n",
    "arr=np.arange(1,10,2)\n",
    "arr"
   ]
  },
  {
   "cell_type": "markdown",
   "id": "3df9d1a3-c1d7-41f6-8535-e5d115325dc7",
   "metadata": {},
   "source": [
    "# Creating Identity Matrix (1's on diagonal)"
   ]
  },
  {
   "cell_type": "code",
   "execution_count": 15,
   "id": "e0733db3-ac45-4347-bad2-02a0d2ae81f3",
   "metadata": {},
   "outputs": [
    {
     "data": {
      "text/plain": [
       "array([[1., 0., 0., 0.],\n",
       "       [0., 1., 0., 0.],\n",
       "       [0., 0., 1., 0.],\n",
       "       [0., 0., 0., 1.]])"
      ]
     },
     "execution_count": 15,
     "metadata": {},
     "output_type": "execute_result"
    }
   ],
   "source": [
    "im=np.eye(4)\n",
    "im"
   ]
  },
  {
   "cell_type": "code",
   "execution_count": null,
   "id": "7ba1b1a7-0155-4aaf-82a9-9a7fdf2c6c7f",
   "metadata": {},
   "outputs": [],
   "source": []
  }
 ],
 "metadata": {
  "kernelspec": {
   "display_name": "Python 3 (ipykernel)",
   "language": "python",
   "name": "python3"
  },
  "language_info": {
   "codemirror_mode": {
    "name": "ipython",
    "version": 3
   },
   "file_extension": ".py",
   "mimetype": "text/x-python",
   "name": "python",
   "nbconvert_exporter": "python",
   "pygments_lexer": "ipython3",
   "version": "3.13.5"
  }
 },
 "nbformat": 4,
 "nbformat_minor": 5
}
